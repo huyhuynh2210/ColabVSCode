{
 "cells": [
  {
   "cell_type": "code",
   "execution_count": 1,
   "metadata": {},
   "outputs": [
    {
     "name": "stdout",
     "output_type": "stream",
     "text": [
      "--2022-04-18 07:14:02--  http://cs.uit.edu.vn/data2.txt\n",
      "Resolving cs.uit.edu.vn (cs.uit.edu.vn)... 45.122.249.78, 118.69.123.142\n",
      "Connecting to cs.uit.edu.vn (cs.uit.edu.vn)|45.122.249.78|:80... connected.\n",
      "HTTP request sent, awaiting response... 200 OK\n",
      "Length: 1203726 (1.1M) [text/plain]\n",
      "Saving to: ‘data2.txt’\n",
      "\n",
      "data2.txt           100%[===================>]   1.15M  1.09MB/s    in 1.1s    \n",
      "\n",
      "2022-04-18 07:14:07 (1.09 MB/s) - ‘data2.txt’ saved [1203726/1203726]\n",
      "\n",
      "6083695,0.521842\n",
      "1954367,0.152648\n",
      "3734185,0.298548\n",
      "5839301,0.46048\n",
      "6343427,0.527977\n",
      "1355574,0.0980122\n",
      "725488,0.0482375\n",
      "1191887,0.0893039\n",
      "4556292,0.378561\n",
      "9989596,0.832734\n"
     ]
    }
   ],
   "source": [
    "!wget cs.uit.edu.vn/data2.txt\n",
    "!head -n 10 data2.txt"
   ]
  },
  {
   "cell_type": "code",
   "execution_count": 2,
   "metadata": {},
   "outputs": [
    {
     "name": "stdout",
     "output_type": "stream",
     "text": [
      "71115 data2.txt\n"
     ]
    }
   ],
   "source": [
    "!wc -l data2.txt"
   ]
  },
  {
   "cell_type": "code",
   "execution_count": 3,
   "metadata": {},
   "outputs": [],
   "source": [
    "import pandas as pd\n",
    "import numpy as np\n",
    "import sklearn\n",
    "from sklearn.linear_model import LinearRegression\n",
    "from sklearn.metrics import mean_squared_error"
   ]
  },
  {
   "cell_type": "code",
   "execution_count": 4,
   "metadata": {},
   "outputs": [],
   "source": [
    "data2 = pd.read_csv('data2.txt', header=None)"
   ]
  },
  {
   "cell_type": "code",
   "execution_count": 5,
   "metadata": {},
   "outputs": [
    {
     "name": "stdout",
     "output_type": "stream",
     "text": [
      "             x         y\n",
      "0      6083695  0.521842\n",
      "1      1954367  0.152648\n",
      "2      3734185  0.298548\n",
      "3      5839301  0.460480\n",
      "4      6343427  0.527977\n",
      "...        ...       ...\n",
      "71110  4472112  0.350379\n",
      "71111  5471895  0.429955\n",
      "71112  9837364  0.801394\n",
      "71113  9466593  0.776407\n",
      "71114  4080801  0.314468\n",
      "\n",
      "[71115 rows x 2 columns]\n"
     ]
    }
   ],
   "source": [
    "data2.columns = ['x','y']\n",
    "print(data2)"
   ]
  },
  {
   "cell_type": "code",
   "execution_count": 6,
   "metadata": {},
   "outputs": [],
   "source": [
    "model = sklearn.linear_model.LinearRegression()\n",
    "X=data2['x'].values.reshape(-1,1)"
   ]
  },
  {
   "cell_type": "code",
   "execution_count": 7,
   "metadata": {},
   "outputs": [
    {
     "data": {
      "text/plain": [
       "LinearRegression()"
      ]
     },
     "execution_count": 7,
     "metadata": {},
     "output_type": "execute_result"
    }
   ],
   "source": [
    "model.fit(X, data2['y'])"
   ]
  },
  {
   "cell_type": "code",
   "execution_count": 14,
   "metadata": {},
   "outputs": [
    {
     "name": "stdout",
     "output_type": "stream",
     "text": [
      "[8.45569856e-08]\n",
      "-0.015895527000496068\n"
     ]
    }
   ],
   "source": [
    "a=model.coef_\n",
    "b= model.intercept_\n",
    "print(a)\n",
    "print(b)"
   ]
  },
  {
   "cell_type": "code",
   "execution_count": 8,
   "metadata": {},
   "outputs": [
    {
     "name": "stdout",
     "output_type": "stream",
     "text": [
      "[0.49852338 0.14935986 0.2998559  ... 0.81592232 0.78457104 0.3291647 ]\n"
     ]
    }
   ],
   "source": [
    "y_predict = model.predict(X)\n",
    "print(y_predict)"
   ]
  },
  {
   "cell_type": "code",
   "execution_count": 9,
   "metadata": {},
   "outputs": [
    {
     "name": "stdout",
     "output_type": "stream",
     "text": [
      "0.00014337728721748892\n"
     ]
    }
   ],
   "source": [
    "#mean_square_error\n",
    "print(sum((y_predict - data2['y'])**2)/len(data2['y']))"
   ]
  },
  {
   "cell_type": "code",
   "execution_count": 10,
   "metadata": {},
   "outputs": [
    {
     "name": "stdout",
     "output_type": "stream",
     "text": [
      "--2022-04-18 07:14:49--  http://cs.uit.edu.vn/data4.txt\n",
      "Resolving cs.uit.edu.vn (cs.uit.edu.vn)... 45.122.249.78, 118.69.123.142\n",
      "Connecting to cs.uit.edu.vn (cs.uit.edu.vn)|45.122.249.78|:80... connected.\n",
      "HTTP request sent, awaiting response... 200 OK\n",
      "Length: 101704 (99K) [text/plain]\n",
      "Saving to: ‘data4.txt’\n",
      "\n",
      "data4.txt           100%[===================>]  99.32K   185KB/s    in 0.5s    \n",
      "\n",
      "2022-04-18 07:14:50 (185 KB/s) - ‘data4.txt’ saved [101704/101704]\n",
      "\n"
     ]
    }
   ],
   "source": [
    "!wget cs.uit.edu.vn/data4.txt\n"
   ]
  },
  {
   "cell_type": "code",
   "execution_count": 11,
   "metadata": {},
   "outputs": [
    {
     "data": {
      "text/html": [
       "<div>\n",
       "<style scoped>\n",
       "    .dataframe tbody tr th:only-of-type {\n",
       "        vertical-align: middle;\n",
       "    }\n",
       "\n",
       "    .dataframe tbody tr th {\n",
       "        vertical-align: top;\n",
       "    }\n",
       "\n",
       "    .dataframe thead th {\n",
       "        text-align: right;\n",
       "    }\n",
       "</style>\n",
       "<table border=\"1\" class=\"dataframe\">\n",
       "  <thead>\n",
       "    <tr style=\"text-align: right;\">\n",
       "      <th></th>\n",
       "      <th>0</th>\n",
       "      <th>1</th>\n",
       "    </tr>\n",
       "  </thead>\n",
       "  <tbody>\n",
       "    <tr>\n",
       "      <th>0</th>\n",
       "      <td>50142057</td>\n",
       "      <td>5.51836</td>\n",
       "    </tr>\n",
       "    <tr>\n",
       "      <th>1</th>\n",
       "      <td>65232531</td>\n",
       "      <td>7.18304</td>\n",
       "    </tr>\n",
       "    <tr>\n",
       "      <th>2</th>\n",
       "      <td>67683741</td>\n",
       "      <td>6.94395</td>\n",
       "    </tr>\n",
       "    <tr>\n",
       "      <th>3</th>\n",
       "      <td>59798449</td>\n",
       "      <td>5.48383</td>\n",
       "    </tr>\n",
       "    <tr>\n",
       "      <th>4</th>\n",
       "      <td>62297119</td>\n",
       "      <td>5.65503</td>\n",
       "    </tr>\n",
       "  </tbody>\n",
       "</table>\n",
       "</div>"
      ],
      "text/plain": [
       "          0        1\n",
       "0  50142057  5.51836\n",
       "1  65232531  7.18304\n",
       "2  67683741  6.94395\n",
       "3  59798449  5.48383\n",
       "4  62297119  5.65503"
      ]
     },
     "execution_count": 11,
     "metadata": {},
     "output_type": "execute_result"
    }
   ],
   "source": [
    "data4 = pd.read_csv('data4.txt', header=None)\n",
    "data4.head()"
   ]
  },
  {
   "cell_type": "code",
   "execution_count": 12,
   "metadata": {},
   "outputs": [
    {
     "data": {
      "text/html": [
       "<div>\n",
       "<style scoped>\n",
       "    .dataframe tbody tr th:only-of-type {\n",
       "        vertical-align: middle;\n",
       "    }\n",
       "\n",
       "    .dataframe tbody tr th {\n",
       "        vertical-align: top;\n",
       "    }\n",
       "\n",
       "    .dataframe thead th {\n",
       "        text-align: right;\n",
       "    }\n",
       "</style>\n",
       "<table border=\"1\" class=\"dataframe\">\n",
       "  <thead>\n",
       "    <tr style=\"text-align: right;\">\n",
       "      <th></th>\n",
       "      <th>x</th>\n",
       "      <th>y</th>\n",
       "    </tr>\n",
       "  </thead>\n",
       "  <tbody>\n",
       "    <tr>\n",
       "      <th>0</th>\n",
       "      <td>50142057</td>\n",
       "      <td>5.51836</td>\n",
       "    </tr>\n",
       "    <tr>\n",
       "      <th>1</th>\n",
       "      <td>65232531</td>\n",
       "      <td>7.18304</td>\n",
       "    </tr>\n",
       "    <tr>\n",
       "      <th>2</th>\n",
       "      <td>67683741</td>\n",
       "      <td>6.94395</td>\n",
       "    </tr>\n",
       "    <tr>\n",
       "      <th>3</th>\n",
       "      <td>59798449</td>\n",
       "      <td>5.48383</td>\n",
       "    </tr>\n",
       "    <tr>\n",
       "      <th>4</th>\n",
       "      <td>62297119</td>\n",
       "      <td>5.65503</td>\n",
       "    </tr>\n",
       "    <tr>\n",
       "      <th>...</th>\n",
       "      <td>...</td>\n",
       "      <td>...</td>\n",
       "    </tr>\n",
       "    <tr>\n",
       "      <th>6018</th>\n",
       "      <td>54062895</td>\n",
       "      <td>4.95203</td>\n",
       "    </tr>\n",
       "    <tr>\n",
       "      <th>6019</th>\n",
       "      <td>67529727</td>\n",
       "      <td>6.28587</td>\n",
       "    </tr>\n",
       "    <tr>\n",
       "      <th>6020</th>\n",
       "      <td>60771350</td>\n",
       "      <td>5.57836</td>\n",
       "    </tr>\n",
       "    <tr>\n",
       "      <th>6021</th>\n",
       "      <td>62607526</td>\n",
       "      <td>5.78302</td>\n",
       "    </tr>\n",
       "    <tr>\n",
       "      <th>6022</th>\n",
       "      <td>50888821</td>\n",
       "      <td>4.61823</td>\n",
       "    </tr>\n",
       "  </tbody>\n",
       "</table>\n",
       "<p>6023 rows × 2 columns</p>\n",
       "</div>"
      ],
      "text/plain": [
       "             x        y\n",
       "0     50142057  5.51836\n",
       "1     65232531  7.18304\n",
       "2     67683741  6.94395\n",
       "3     59798449  5.48383\n",
       "4     62297119  5.65503\n",
       "...        ...      ...\n",
       "6018  54062895  4.95203\n",
       "6019  67529727  6.28587\n",
       "6020  60771350  5.57836\n",
       "6021  62607526  5.78302\n",
       "6022  50888821  4.61823\n",
       "\n",
       "[6023 rows x 2 columns]"
      ]
     },
     "execution_count": 12,
     "metadata": {},
     "output_type": "execute_result"
    }
   ],
   "source": [
    "data4.columns = ['x','y']\n",
    "data4"
   ]
  },
  {
   "cell_type": "markdown",
   "metadata": {},
   "source": [
    "#cach 1"
   ]
  },
  {
   "cell_type": "code",
   "execution_count": 15,
   "metadata": {},
   "outputs": [
    {
     "data": {
      "text/plain": [
       "0       4.223966\n",
       "1       5.499971\n",
       "2       5.707238\n",
       "3       5.040481\n",
       "4       5.251761\n",
       "          ...   \n",
       "6018    4.555500\n",
       "6019    5.694215\n",
       "6020    5.122747\n",
       "6021    5.278008\n",
       "6022    4.287110\n",
       "Name: x, Length: 6023, dtype: float64"
      ]
     },
     "execution_count": 15,
     "metadata": {},
     "output_type": "execute_result"
    }
   ],
   "source": [
    "y4_predict = a[0]*data4['x']+b\n",
    "y4_predict"
   ]
  },
  {
   "cell_type": "code",
   "execution_count": 16,
   "metadata": {},
   "outputs": [
    {
     "name": "stdout",
     "output_type": "stream",
     "text": [
      "0.22348476817425994\n"
     ]
    }
   ],
   "source": [
    "#mean_square_error data4\n",
    "print(sum((y4_predict - data4['y'])**2)/len(data4['y']))"
   ]
  },
  {
   "cell_type": "markdown",
   "metadata": {},
   "source": [
    "#cach2"
   ]
  },
  {
   "cell_type": "code",
   "execution_count": 18,
   "metadata": {},
   "outputs": [
    {
     "data": {
      "text/plain": [
       "array([4.22396566, 5.49997066, 5.70723759, ..., 5.12274664, 5.27800815,\n",
       "       4.28710978])"
      ]
     },
     "execution_count": 18,
     "metadata": {},
     "output_type": "execute_result"
    }
   ],
   "source": [
    "y4m_predict = model.predict(data4['x'].values.reshape(-1,1))\n",
    "y4m_predict"
   ]
  },
  {
   "cell_type": "code",
   "execution_count": 19,
   "metadata": {},
   "outputs": [
    {
     "name": "stdout",
     "output_type": "stream",
     "text": [
      "0.22348476817425994\n"
     ]
    }
   ],
   "source": [
    "#mean_square_error data4\n",
    "print(sum((y4m_predict - data4['y'])**2)/len(data4['y']))"
   ]
  }
 ],
 "metadata": {
  "interpreter": {
   "hash": "31f2aee4e71d21fbe5cf8b01ff0e069b9275f58929596ceb00d14d90e3e16cd6"
  },
  "kernelspec": {
   "display_name": "Python 3.7.13 64-bit",
   "language": "python",
   "name": "python3"
  },
  "language_info": {
   "codemirror_mode": {
    "name": "ipython",
    "version": 3
   },
   "file_extension": ".py",
   "mimetype": "text/x-python",
   "name": "python",
   "nbconvert_exporter": "python",
   "pygments_lexer": "ipython3",
   "version": "3.7.13"
  },
  "orig_nbformat": 4
 },
 "nbformat": 4,
 "nbformat_minor": 2
}
